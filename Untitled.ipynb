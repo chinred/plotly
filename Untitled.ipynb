{
 "cells": [
  {
   "cell_type": "code",
   "execution_count": null,
   "id": "bc58ef29-88e1-429a-acd6-f28366170cda",
   "metadata": {},
   "outputs": [],
   "source": [
    "import pandas as pd\n",
    "import plotly.express as px\n",
    "\n",
    "df_raw = pd.read_csv(\"서울기온-2.csv\")\n",
    "df = df_raw.copy()\n",
    "df.columns = ['일시', '지점', '평균기온', '최저기온', '최고기온']\n",
    "df['일시'] = pd.to_datetime(df['일시'], errors='coerce')\n",
    "\n",
    "for col in ['평균기온', '최저기온', '최고기온']:\n",
    "    df[col] = pd.to_numeric(df[col], errors='coerce')\n",
    "\n",
    "df = df.dropna(subset=['일시'])\n",
    "\n",
    "fig = px.line(\n",
    "    df,\n",
    "    x='일시',\n",
    "    y=['최저기온', '평균기온', '최고기온'],\n",
    "    labels={'value': '기온(℃)', '일시': '날짜', 'variable': '기온 종류'},\n",
    "    title='기상청 일별 기온 데이터'\n",
    ")\n",
    "\n",
    "# 각 trace를 선만 표시하도록 설정하고, 호버 시 마커가 나타나도록 설정\n",
    "fig.for_each_trace(lambda t: t.update(\n",
    "    mode='lines',  # 기본적으로는 선만 표시\n",
    "    line=dict(width=2),\n",
    "    hovertemplate=t.name + \": %{y}℃<extra></extra>\",\n",
    "    # 호버 시 마커 설정\n",
    "    marker=dict(\n",
    "        size=8,\n",
    "        color=t.line.color,\n",
    "        symbol='circle',\n",
    "        line=dict(width=6)\n",
    "    )\n",
    "))\n",
    "\n",
    "fig.update_layout(\n",
    "    width=1100,\n",
    "    height=600,\n",
    "    xaxis=dict(\n",
    "        tickformat=\"%Y-%m-%d\",\n",
    "        rangeslider=dict(visible=True),\n",
    "        type=\"date\",\n",
    "    ),\n",
    "    hovermode=\"x unified\", \n",
    "    hoverlabel=dict(\n",
    "        bgcolor=\"rgba(50, 50, 50, 0.8)\",\n",
    "        font_size=14,\n",
    "        font_color='white',\n",
    "        font_family=\"맑은 고딕\",\n",
    "    ),\n",
    "    # 호버 시 마커가 나타나도록 설정\n",
    "    hoverdistance=10000,  # 호버 감지 거리\n",
    ")\n",
    "\n",
    "# 각 trace에 대해 호버 시에만 마커가 보이도록 추가 설정\n",
    "fig.update_traces(\n",
    "    mode='lines',\n",
    "    marker_size=0,  # 기본 마커 크기를 0으로 설정\n",
    "    hoveron='points+fills',  # 포인트와 채우기 영역에서 호버 감지\n",
    ")\n",
    "fig.show()"
   ]
  },
  {
   "cell_type": "code",
   "execution_count": 27,
   "id": "813ddc09-cfe2-4af1-a082-ce21c36ab78c",
   "metadata": {},
   "outputs": [],
   "source": [
    "import plotly.graph_objects as go\n",
    "import plotly.express as px\n",
    "import pandas as pd\n",
    "import numpy as np"
   ]
  }
 ],
 "metadata": {
  "kernelspec": {
   "display_name": "Python 3 (ipykernel)",
   "language": "python",
   "name": "python3"
  },
  "language_info": {
   "codemirror_mode": {
    "name": "ipython",
    "version": 3
   },
   "file_extension": ".py",
   "mimetype": "text/x-python",
   "name": "python",
   "nbconvert_exporter": "python",
   "pygments_lexer": "ipython3",
   "version": "3.13.2"
  }
 },
 "nbformat": 4,
 "nbformat_minor": 5
}
